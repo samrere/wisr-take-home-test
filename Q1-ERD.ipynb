{
 "cells": [
  {
   "cell_type": "markdown",
   "id": "3b9a6713",
   "metadata": {},
   "source": [
    "## 1. Introduction\n",
    "The purpose of this file is:\n",
    "* explore the data, \n",
    "* check data and correct any errors (if there is any),\n",
    "* determine caradinality between relations: one-to-one, one-to-many, or many-to-many (that may requires furtuer normalization),\n",
    "* draw ERD."
   ]
  },
  {
   "cell_type": "code",
   "execution_count": 1,
   "id": "dc977297",
   "metadata": {},
   "outputs": [
    {
     "name": "stderr",
     "output_type": "stream",
     "text": [
      "24/09/25 04:27:57 WARN Utils: Your hostname, sam-pc resolves to a loopback address: 127.0.1.1; using 192.168.1.8 instead (on interface wlp5s0)\n",
      "24/09/25 04:27:57 WARN Utils: Set SPARK_LOCAL_IP if you need to bind to another address\n",
      "Setting default log level to \"WARN\".\n",
      "To adjust logging level use sc.setLogLevel(newLevel). For SparkR, use setLogLevel(newLevel).\n",
      "24/09/25 04:27:58 WARN NativeCodeLoader: Unable to load native-hadoop library for your platform... using builtin-java classes where applicable\n"
     ]
    },
    {
     "name": "stdout",
     "output_type": "stream",
     "text": [
      "Spark URL: http://192.168.1.8:4040\n"
     ]
    }
   ],
   "source": [
    "from pyspark.sql import SparkSession\n",
    "from pyspark.sql.types import *\n",
    "from pyspark.sql.functions import to_date, col, max as spark_max, min as spark_min\n",
    "import time\n",
    "import os\n",
    "\n",
    "spark = SparkSession.builder.appName(\"wisrTest\").getOrCreate()\n",
    "print(f\"Spark URL: {spark.sparkContext.uiWebUrl}\")"
   ]
  },
  {
   "cell_type": "markdown",
   "id": "2a2a671d",
   "metadata": {},
   "source": [
    "## 2. Read from CSV\n",
    "**need to unzip all csv files to the data folder**"
   ]
  },
  {
   "cell_type": "code",
   "execution_count": 2,
   "id": "ba9be032",
   "metadata": {},
   "outputs": [
    {
     "name": "stdout",
     "output_type": "stream",
     "text": [
      "--------------------------------------------------\n",
      "table name: departments\n",
      "row count: 9\n",
      "root\n",
      " |-- dept_no: string (nullable = true)\n",
      " |-- dept_name: string (nullable = true)\n",
      "\n",
      "+-------+---------+\n",
      "|dept_no|dept_name|\n",
      "+-------+---------+\n",
      "|   d001|Marketing|\n",
      "+-------+---------+\n",
      "only showing top 1 row\n",
      "\n",
      "--------------------------------------------------\n",
      "table name: dept_emp\n",
      "row count: 331603\n",
      "root\n",
      " |-- emp_no: string (nullable = true)\n",
      " |-- dept_no: string (nullable = true)\n",
      "\n",
      "+------+-------+\n",
      "|emp_no|dept_no|\n",
      "+------+-------+\n",
      "| 10001|   d005|\n",
      "+------+-------+\n",
      "only showing top 1 row\n",
      "\n",
      "--------------------------------------------------\n",
      "table name: dept_manager\n",
      "row count: 24\n",
      "root\n",
      " |-- dept_no: string (nullable = true)\n",
      " |-- emp_no: string (nullable = true)\n",
      "\n",
      "+-------+------+\n",
      "|dept_no|emp_no|\n",
      "+-------+------+\n",
      "|   d001|110022|\n",
      "+-------+------+\n",
      "only showing top 1 row\n",
      "\n",
      "--------------------------------------------------\n",
      "table name: employees\n",
      "row count: 300024\n",
      "root\n",
      " |-- emp_no: string (nullable = true)\n",
      " |-- emp_title_id: string (nullable = true)\n",
      " |-- birth_date: string (nullable = true)\n",
      " |-- first_name: string (nullable = true)\n",
      " |-- last_name: string (nullable = true)\n",
      " |-- sex: string (nullable = true)\n",
      " |-- hire_date: string (nullable = true)\n",
      "\n",
      "+------+------------+----------+----------+---------+---+---------+\n",
      "|emp_no|emp_title_id|birth_date|first_name|last_name|sex|hire_date|\n",
      "+------+------------+----------+----------+---------+---+---------+\n",
      "|473302|       s0001| 7/25/1953|  Hideyuki| Zallocco|  M|4/28/1990|\n",
      "+------+------------+----------+----------+---------+---+---------+\n",
      "only showing top 1 row\n",
      "\n",
      "--------------------------------------------------\n",
      "table name: salaries\n",
      "row count: 300024\n",
      "root\n",
      " |-- emp_no: string (nullable = true)\n",
      " |-- salary: string (nullable = true)\n",
      "\n",
      "+------+------+\n",
      "|emp_no|salary|\n",
      "+------+------+\n",
      "| 10001| 60117|\n",
      "+------+------+\n",
      "only showing top 1 row\n",
      "\n",
      "--------------------------------------------------\n",
      "table name: titles\n",
      "row count: 7\n",
      "root\n",
      " |-- title_id: string (nullable = true)\n",
      " |-- title: string (nullable = true)\n",
      "\n",
      "+--------+-----+\n",
      "|title_id|title|\n",
      "+--------+-----+\n",
      "|   s0001|Staff|\n",
      "+--------+-----+\n",
      "only showing top 1 row\n",
      "\n"
     ]
    }
   ],
   "source": [
    "root = 'data'\n",
    "dfNames = ('departments', 'dept_emp', 'dept_manager',\n",
    "           'employees', 'salaries', 'titles')\n",
    "dfs = dict()\n",
    "for name in dfNames:\n",
    "    dfs[name] = spark.read.csv(os.path.join(\n",
    "        root, f'{name}.csv'), header=True, inferSchema=False)\n",
    "    print('-' * 50)\n",
    "    print(f'table name: {name}')\n",
    "    print(f'row count: {dfs[name].count()}')\n",
    "    dfs[name].printSchema()\n",
    "    dfs[name].show(1)"
   ]
  },
  {
   "cell_type": "markdown",
   "id": "9d27e2e1",
   "metadata": {},
   "source": [
    "## 3. Convert dtype\n",
    "convert all columns that is not string to the correct data type, in the meantime, check quality of the data (if convertion fails, corresponding entry will be null).\n",
    "### 3.1. numeric primary keys to integer\n",
    "create a new column with converted values, check if there is any null. rename if all good"
   ]
  },
  {
   "cell_type": "code",
   "execution_count": 3,
   "id": "b8a7c642",
   "metadata": {},
   "outputs": [
    {
     "name": "stdout",
     "output_type": "stream",
     "text": [
      "null count: 0\n",
      "null count: 0\n",
      "null count: 0\n",
      "null count: 0\n"
     ]
    }
   ],
   "source": [
    "for name in ('dept_emp', 'dept_manager', 'employees', 'salaries'):\n",
    "    # invalid entries will be converted to null\n",
    "    dfs[name] = dfs[name].withColumn(\"emp_no_int\", col(\"emp_no\").cast(\"int\"))\n",
    "    null_count = dfs[name].filter(col(\"emp_no_int\").isNull()).count()\n",
    "    print(f'null count: {null_count}')\n",
    "    if null_count == 0:\n",
    "        dfs[name] = dfs[name].drop(\n",
    "            'emp_no').withColumnRenamed(\"emp_no_int\", \"emp_no\")"
   ]
  },
  {
   "cell_type": "markdown",
   "id": "3d008d51",
   "metadata": {},
   "source": [
    "### 3.2. salary to decimal"
   ]
  },
  {
   "cell_type": "code",
   "execution_count": 4,
   "id": "12f47a55",
   "metadata": {},
   "outputs": [
    {
     "name": "stdout",
     "output_type": "stream",
     "text": [
      "null count: 0\n",
      "max salary: 129492.00\n",
      "min salary: 40000.00\n"
     ]
    }
   ],
   "source": [
    "name = 'salaries'\n",
    "dfs[name] = dfs[name].withColumn(\n",
    "    \"salary_dec\", col(\"salary\").cast(DecimalType(10, 2)))\n",
    "null_count = dfs[name].filter(col(\"salary_dec\").isNull()).count()\n",
    "print(f'null count: {null_count}')\n",
    "if null_count == 0:\n",
    "    dfs[name] = dfs[name].drop(\n",
    "        'salary').withColumnRenamed(\"salary_dec\", \"salary\")\n",
    "\n",
    "max_val = dfs[name].agg(spark_max(\"salary\")).collect()[0][0]\n",
    "print(f'max salary: {max_val}')\n",
    "min_val = dfs[name].agg(spark_min(\"salary\")).collect()[0][0]\n",
    "print(f'min salary: {min_val}')"
   ]
  },
  {
   "cell_type": "markdown",
   "id": "726043b3",
   "metadata": {},
   "source": [
    "### 3.3. birth_date and hire_date to date"
   ]
  },
  {
   "cell_type": "code",
   "execution_count": 5,
   "id": "01cdbac7",
   "metadata": {},
   "outputs": [
    {
     "name": "stdout",
     "output_type": "stream",
     "text": [
      "null count: 0\n",
      "null count: 0\n"
     ]
    }
   ],
   "source": [
    "name = 'employees'\n",
    "for col_name in ('birth_date', 'hire_date'):\n",
    "    new_name = col_name + '_date'\n",
    "    dfs[name] = dfs[name].withColumn(\n",
    "        new_name, to_date(col(col_name), \"M/d/yyyy\"))\n",
    "    null_count = dfs[name].filter(col(new_name).isNull()).count()\n",
    "    print(f'null count: {null_count}')\n",
    "    if null_count == 0:\n",
    "        dfs[name] = dfs[name].drop(\n",
    "            col_name).withColumnRenamed(new_name, col_name)"
   ]
  },
  {
   "cell_type": "markdown",
   "id": "0885bd43",
   "metadata": {},
   "source": [
    "### 3.4. print new schema"
   ]
  },
  {
   "cell_type": "code",
   "execution_count": 6,
   "id": "10aa5991",
   "metadata": {},
   "outputs": [
    {
     "name": "stdout",
     "output_type": "stream",
     "text": [
      "--------------------------------------------------\n",
      "table name: departments\n",
      "root\n",
      " |-- dept_no: string (nullable = true)\n",
      " |-- dept_name: string (nullable = true)\n",
      "\n",
      "+-------+---------+\n",
      "|dept_no|dept_name|\n",
      "+-------+---------+\n",
      "|   d001|Marketing|\n",
      "+-------+---------+\n",
      "only showing top 1 row\n",
      "\n",
      "--------------------------------------------------\n",
      "table name: dept_emp\n",
      "root\n",
      " |-- dept_no: string (nullable = true)\n",
      " |-- emp_no: integer (nullable = true)\n",
      "\n",
      "+-------+------+\n",
      "|dept_no|emp_no|\n",
      "+-------+------+\n",
      "|   d005| 10001|\n",
      "+-------+------+\n",
      "only showing top 1 row\n",
      "\n",
      "--------------------------------------------------\n",
      "table name: dept_manager\n",
      "root\n",
      " |-- dept_no: string (nullable = true)\n",
      " |-- emp_no: integer (nullable = true)\n",
      "\n",
      "+-------+------+\n",
      "|dept_no|emp_no|\n",
      "+-------+------+\n",
      "|   d001|110022|\n",
      "+-------+------+\n",
      "only showing top 1 row\n",
      "\n",
      "--------------------------------------------------\n",
      "table name: employees\n",
      "root\n",
      " |-- emp_title_id: string (nullable = true)\n",
      " |-- first_name: string (nullable = true)\n",
      " |-- last_name: string (nullable = true)\n",
      " |-- sex: string (nullable = true)\n",
      " |-- emp_no: integer (nullable = true)\n",
      " |-- birth_date: date (nullable = true)\n",
      " |-- hire_date: date (nullable = true)\n",
      "\n",
      "+------------+----------+---------+---+------+----------+----------+\n",
      "|emp_title_id|first_name|last_name|sex|emp_no|birth_date| hire_date|\n",
      "+------------+----------+---------+---+------+----------+----------+\n",
      "|       s0001|  Hideyuki| Zallocco|  M|473302|1953-07-25|1990-04-28|\n",
      "+------------+----------+---------+---+------+----------+----------+\n",
      "only showing top 1 row\n",
      "\n",
      "--------------------------------------------------\n",
      "table name: salaries\n",
      "root\n",
      " |-- emp_no: integer (nullable = true)\n",
      " |-- salary: decimal(10,2) (nullable = true)\n",
      "\n",
      "+------+--------+\n",
      "|emp_no|  salary|\n",
      "+------+--------+\n",
      "| 10001|60117.00|\n",
      "+------+--------+\n",
      "only showing top 1 row\n",
      "\n",
      "--------------------------------------------------\n",
      "table name: titles\n",
      "root\n",
      " |-- title_id: string (nullable = true)\n",
      " |-- title: string (nullable = true)\n",
      "\n",
      "+--------+-----+\n",
      "|title_id|title|\n",
      "+--------+-----+\n",
      "|   s0001|Staff|\n",
      "+--------+-----+\n",
      "only showing top 1 row\n",
      "\n"
     ]
    }
   ],
   "source": [
    "for name in dfNames:\n",
    "    print('-' * 50)\n",
    "    print(f'table name: {name}')\n",
    "    dfs[name].printSchema()\n",
    "    dfs[name].show(1)"
   ]
  },
  {
   "cell_type": "markdown",
   "id": "8dd51744",
   "metadata": {},
   "source": [
    "## 4. Create Temp View and Do Checks"
   ]
  },
  {
   "cell_type": "code",
   "execution_count": 7,
   "id": "a6985d1d",
   "metadata": {},
   "outputs": [],
   "source": [
    "for name in dfNames:\n",
    "    df = dfs[name]\n",
    "    df.createOrReplaceTempView(name)"
   ]
  },
  {
   "cell_type": "markdown",
   "id": "112630ca",
   "metadata": {},
   "source": [
    "### 4.1. is primary key unique? select duplicate primary keys"
   ]
  },
  {
   "cell_type": "code",
   "execution_count": 8,
   "id": "3b3d5c08",
   "metadata": {},
   "outputs": [
    {
     "name": "stdout",
     "output_type": "stream",
     "text": [
      "\n",
      "        SELECT dept_no, \n",
      "               COUNT(*) AS dup_count \n",
      "        FROM departments \n",
      "        GROUP BY dept_no \n",
      "        HAVING COUNT(*) > 1;\n",
      "    \n"
     ]
    },
    {
     "data": {
      "text/html": [
       "<div>\n",
       "<style scoped>\n",
       "    .dataframe tbody tr th:only-of-type {\n",
       "        vertical-align: middle;\n",
       "    }\n",
       "\n",
       "    .dataframe tbody tr th {\n",
       "        vertical-align: top;\n",
       "    }\n",
       "\n",
       "    .dataframe thead th {\n",
       "        text-align: right;\n",
       "    }\n",
       "</style>\n",
       "<table border=\"1\" class=\"dataframe\">\n",
       "  <thead>\n",
       "    <tr style=\"text-align: right;\">\n",
       "      <th></th>\n",
       "      <th>dept_no</th>\n",
       "      <th>dup_count</th>\n",
       "    </tr>\n",
       "  </thead>\n",
       "  <tbody>\n",
       "  </tbody>\n",
       "</table>\n",
       "</div>"
      ],
      "text/plain": [
       "Empty DataFrame\n",
       "Columns: [dept_no, dup_count]\n",
       "Index: []"
      ]
     },
     "metadata": {},
     "output_type": "display_data"
    },
    {
     "name": "stdout",
     "output_type": "stream",
     "text": [
      "--------------------------------------------------\n",
      "\n",
      "        SELECT emp_no, dept_no, \n",
      "               COUNT(*) AS dup_count \n",
      "        FROM dept_emp \n",
      "        GROUP BY emp_no, dept_no \n",
      "        HAVING COUNT(*) > 1;\n",
      "    \n"
     ]
    },
    {
     "data": {
      "text/html": [
       "<div>\n",
       "<style scoped>\n",
       "    .dataframe tbody tr th:only-of-type {\n",
       "        vertical-align: middle;\n",
       "    }\n",
       "\n",
       "    .dataframe tbody tr th {\n",
       "        vertical-align: top;\n",
       "    }\n",
       "\n",
       "    .dataframe thead th {\n",
       "        text-align: right;\n",
       "    }\n",
       "</style>\n",
       "<table border=\"1\" class=\"dataframe\">\n",
       "  <thead>\n",
       "    <tr style=\"text-align: right;\">\n",
       "      <th></th>\n",
       "      <th>emp_no</th>\n",
       "      <th>dept_no</th>\n",
       "      <th>dup_count</th>\n",
       "    </tr>\n",
       "  </thead>\n",
       "  <tbody>\n",
       "  </tbody>\n",
       "</table>\n",
       "</div>"
      ],
      "text/plain": [
       "Empty DataFrame\n",
       "Columns: [emp_no, dept_no, dup_count]\n",
       "Index: []"
      ]
     },
     "metadata": {},
     "output_type": "display_data"
    },
    {
     "name": "stdout",
     "output_type": "stream",
     "text": [
      "--------------------------------------------------\n",
      "\n",
      "        SELECT emp_no, dept_no, \n",
      "               COUNT(*) AS dup_count \n",
      "        FROM dept_manager \n",
      "        GROUP BY emp_no, dept_no \n",
      "        HAVING COUNT(*) > 1;\n",
      "    \n"
     ]
    },
    {
     "data": {
      "text/html": [
       "<div>\n",
       "<style scoped>\n",
       "    .dataframe tbody tr th:only-of-type {\n",
       "        vertical-align: middle;\n",
       "    }\n",
       "\n",
       "    .dataframe tbody tr th {\n",
       "        vertical-align: top;\n",
       "    }\n",
       "\n",
       "    .dataframe thead th {\n",
       "        text-align: right;\n",
       "    }\n",
       "</style>\n",
       "<table border=\"1\" class=\"dataframe\">\n",
       "  <thead>\n",
       "    <tr style=\"text-align: right;\">\n",
       "      <th></th>\n",
       "      <th>emp_no</th>\n",
       "      <th>dept_no</th>\n",
       "      <th>dup_count</th>\n",
       "    </tr>\n",
       "  </thead>\n",
       "  <tbody>\n",
       "  </tbody>\n",
       "</table>\n",
       "</div>"
      ],
      "text/plain": [
       "Empty DataFrame\n",
       "Columns: [emp_no, dept_no, dup_count]\n",
       "Index: []"
      ]
     },
     "metadata": {},
     "output_type": "display_data"
    },
    {
     "name": "stdout",
     "output_type": "stream",
     "text": [
      "--------------------------------------------------\n",
      "\n",
      "        SELECT emp_no, \n",
      "               COUNT(*) AS dup_count \n",
      "        FROM employees \n",
      "        GROUP BY emp_no \n",
      "        HAVING COUNT(*) > 1;\n",
      "    \n"
     ]
    },
    {
     "data": {
      "text/html": [
       "<div>\n",
       "<style scoped>\n",
       "    .dataframe tbody tr th:only-of-type {\n",
       "        vertical-align: middle;\n",
       "    }\n",
       "\n",
       "    .dataframe tbody tr th {\n",
       "        vertical-align: top;\n",
       "    }\n",
       "\n",
       "    .dataframe thead th {\n",
       "        text-align: right;\n",
       "    }\n",
       "</style>\n",
       "<table border=\"1\" class=\"dataframe\">\n",
       "  <thead>\n",
       "    <tr style=\"text-align: right;\">\n",
       "      <th></th>\n",
       "      <th>emp_no</th>\n",
       "      <th>dup_count</th>\n",
       "    </tr>\n",
       "  </thead>\n",
       "  <tbody>\n",
       "  </tbody>\n",
       "</table>\n",
       "</div>"
      ],
      "text/plain": [
       "Empty DataFrame\n",
       "Columns: [emp_no, dup_count]\n",
       "Index: []"
      ]
     },
     "metadata": {},
     "output_type": "display_data"
    },
    {
     "name": "stdout",
     "output_type": "stream",
     "text": [
      "--------------------------------------------------\n",
      "\n",
      "        SELECT emp_no, \n",
      "               COUNT(*) AS dup_count \n",
      "        FROM salaries \n",
      "        GROUP BY emp_no \n",
      "        HAVING COUNT(*) > 1;\n",
      "    \n"
     ]
    },
    {
     "data": {
      "text/html": [
       "<div>\n",
       "<style scoped>\n",
       "    .dataframe tbody tr th:only-of-type {\n",
       "        vertical-align: middle;\n",
       "    }\n",
       "\n",
       "    .dataframe tbody tr th {\n",
       "        vertical-align: top;\n",
       "    }\n",
       "\n",
       "    .dataframe thead th {\n",
       "        text-align: right;\n",
       "    }\n",
       "</style>\n",
       "<table border=\"1\" class=\"dataframe\">\n",
       "  <thead>\n",
       "    <tr style=\"text-align: right;\">\n",
       "      <th></th>\n",
       "      <th>emp_no</th>\n",
       "      <th>dup_count</th>\n",
       "    </tr>\n",
       "  </thead>\n",
       "  <tbody>\n",
       "  </tbody>\n",
       "</table>\n",
       "</div>"
      ],
      "text/plain": [
       "Empty DataFrame\n",
       "Columns: [emp_no, dup_count]\n",
       "Index: []"
      ]
     },
     "metadata": {},
     "output_type": "display_data"
    },
    {
     "name": "stdout",
     "output_type": "stream",
     "text": [
      "--------------------------------------------------\n",
      "\n",
      "        SELECT title_id, \n",
      "               COUNT(*) AS dup_count \n",
      "        FROM titles \n",
      "        GROUP BY title_id \n",
      "        HAVING COUNT(*) > 1;\n",
      "    \n"
     ]
    },
    {
     "data": {
      "text/html": [
       "<div>\n",
       "<style scoped>\n",
       "    .dataframe tbody tr th:only-of-type {\n",
       "        vertical-align: middle;\n",
       "    }\n",
       "\n",
       "    .dataframe tbody tr th {\n",
       "        vertical-align: top;\n",
       "    }\n",
       "\n",
       "    .dataframe thead th {\n",
       "        text-align: right;\n",
       "    }\n",
       "</style>\n",
       "<table border=\"1\" class=\"dataframe\">\n",
       "  <thead>\n",
       "    <tr style=\"text-align: right;\">\n",
       "      <th></th>\n",
       "      <th>title_id</th>\n",
       "      <th>dup_count</th>\n",
       "    </tr>\n",
       "  </thead>\n",
       "  <tbody>\n",
       "  </tbody>\n",
       "</table>\n",
       "</div>"
      ],
      "text/plain": [
       "Empty DataFrame\n",
       "Columns: [title_id, dup_count]\n",
       "Index: []"
      ]
     },
     "metadata": {},
     "output_type": "display_data"
    },
    {
     "name": "stdout",
     "output_type": "stream",
     "text": [
      "--------------------------------------------------\n"
     ]
    }
   ],
   "source": [
    "dfsPK = {\n",
    "    'departments': 'dept_no',\n",
    "    'dept_emp': 'emp_no, dept_no',\n",
    "    'dept_manager': 'emp_no, dept_no',\n",
    "    'employees': 'emp_no',\n",
    "    'salaries': 'emp_no',\n",
    "    'titles': 'title_id'\n",
    "}\n",
    "\n",
    "for name, pk in dfsPK.items():\n",
    "    query = f\"\"\"\n",
    "        SELECT {pk}, \n",
    "               COUNT(*) AS dup_count \n",
    "        FROM {name} \n",
    "        GROUP BY {pk} \n",
    "        HAVING COUNT(*) > 1;\n",
    "    \"\"\"\n",
    "    print(query)\n",
    "    df = spark.sql(query).toPandas()\n",
    "    display(df)\n",
    "    print('-' * 50)"
   ]
  },
  {
   "cell_type": "markdown",
   "id": "89e39645",
   "metadata": {},
   "source": [
    "### 4.2. is primary key not null?"
   ]
  },
  {
   "cell_type": "code",
   "execution_count": 9,
   "id": "0661afb3",
   "metadata": {},
   "outputs": [
    {
     "name": "stdout",
     "output_type": "stream",
     "text": [
      "\n",
      "        SELECT dept_no \n",
      "        FROM departments \n",
      "        WHERE dept_no is null;\n",
      "    \n"
     ]
    },
    {
     "data": {
      "text/html": [
       "<div>\n",
       "<style scoped>\n",
       "    .dataframe tbody tr th:only-of-type {\n",
       "        vertical-align: middle;\n",
       "    }\n",
       "\n",
       "    .dataframe tbody tr th {\n",
       "        vertical-align: top;\n",
       "    }\n",
       "\n",
       "    .dataframe thead th {\n",
       "        text-align: right;\n",
       "    }\n",
       "</style>\n",
       "<table border=\"1\" class=\"dataframe\">\n",
       "  <thead>\n",
       "    <tr style=\"text-align: right;\">\n",
       "      <th></th>\n",
       "      <th>dept_no</th>\n",
       "    </tr>\n",
       "  </thead>\n",
       "  <tbody>\n",
       "  </tbody>\n",
       "</table>\n",
       "</div>"
      ],
      "text/plain": [
       "Empty DataFrame\n",
       "Columns: [dept_no]\n",
       "Index: []"
      ]
     },
     "metadata": {},
     "output_type": "display_data"
    },
    {
     "name": "stdout",
     "output_type": "stream",
     "text": [
      "--------------------------------------------------\n",
      "\n",
      "        SELECT emp_no, dept_no \n",
      "        FROM dept_emp \n",
      "        WHERE emp_no is null AND dept_no is null;\n",
      "    \n"
     ]
    },
    {
     "data": {
      "text/html": [
       "<div>\n",
       "<style scoped>\n",
       "    .dataframe tbody tr th:only-of-type {\n",
       "        vertical-align: middle;\n",
       "    }\n",
       "\n",
       "    .dataframe tbody tr th {\n",
       "        vertical-align: top;\n",
       "    }\n",
       "\n",
       "    .dataframe thead th {\n",
       "        text-align: right;\n",
       "    }\n",
       "</style>\n",
       "<table border=\"1\" class=\"dataframe\">\n",
       "  <thead>\n",
       "    <tr style=\"text-align: right;\">\n",
       "      <th></th>\n",
       "      <th>emp_no</th>\n",
       "      <th>dept_no</th>\n",
       "    </tr>\n",
       "  </thead>\n",
       "  <tbody>\n",
       "  </tbody>\n",
       "</table>\n",
       "</div>"
      ],
      "text/plain": [
       "Empty DataFrame\n",
       "Columns: [emp_no, dept_no]\n",
       "Index: []"
      ]
     },
     "metadata": {},
     "output_type": "display_data"
    },
    {
     "name": "stdout",
     "output_type": "stream",
     "text": [
      "--------------------------------------------------\n",
      "\n",
      "        SELECT emp_no, dept_no \n",
      "        FROM dept_manager \n",
      "        WHERE emp_no is null AND dept_no is null;\n",
      "    \n"
     ]
    },
    {
     "data": {
      "text/html": [
       "<div>\n",
       "<style scoped>\n",
       "    .dataframe tbody tr th:only-of-type {\n",
       "        vertical-align: middle;\n",
       "    }\n",
       "\n",
       "    .dataframe tbody tr th {\n",
       "        vertical-align: top;\n",
       "    }\n",
       "\n",
       "    .dataframe thead th {\n",
       "        text-align: right;\n",
       "    }\n",
       "</style>\n",
       "<table border=\"1\" class=\"dataframe\">\n",
       "  <thead>\n",
       "    <tr style=\"text-align: right;\">\n",
       "      <th></th>\n",
       "      <th>emp_no</th>\n",
       "      <th>dept_no</th>\n",
       "    </tr>\n",
       "  </thead>\n",
       "  <tbody>\n",
       "  </tbody>\n",
       "</table>\n",
       "</div>"
      ],
      "text/plain": [
       "Empty DataFrame\n",
       "Columns: [emp_no, dept_no]\n",
       "Index: []"
      ]
     },
     "metadata": {},
     "output_type": "display_data"
    },
    {
     "name": "stdout",
     "output_type": "stream",
     "text": [
      "--------------------------------------------------\n",
      "\n",
      "        SELECT emp_no \n",
      "        FROM employees \n",
      "        WHERE emp_no is null;\n",
      "    \n"
     ]
    },
    {
     "data": {
      "text/html": [
       "<div>\n",
       "<style scoped>\n",
       "    .dataframe tbody tr th:only-of-type {\n",
       "        vertical-align: middle;\n",
       "    }\n",
       "\n",
       "    .dataframe tbody tr th {\n",
       "        vertical-align: top;\n",
       "    }\n",
       "\n",
       "    .dataframe thead th {\n",
       "        text-align: right;\n",
       "    }\n",
       "</style>\n",
       "<table border=\"1\" class=\"dataframe\">\n",
       "  <thead>\n",
       "    <tr style=\"text-align: right;\">\n",
       "      <th></th>\n",
       "      <th>emp_no</th>\n",
       "    </tr>\n",
       "  </thead>\n",
       "  <tbody>\n",
       "  </tbody>\n",
       "</table>\n",
       "</div>"
      ],
      "text/plain": [
       "Empty DataFrame\n",
       "Columns: [emp_no]\n",
       "Index: []"
      ]
     },
     "metadata": {},
     "output_type": "display_data"
    },
    {
     "name": "stdout",
     "output_type": "stream",
     "text": [
      "--------------------------------------------------\n",
      "\n",
      "        SELECT emp_no \n",
      "        FROM salaries \n",
      "        WHERE emp_no is null;\n",
      "    \n"
     ]
    },
    {
     "data": {
      "text/html": [
       "<div>\n",
       "<style scoped>\n",
       "    .dataframe tbody tr th:only-of-type {\n",
       "        vertical-align: middle;\n",
       "    }\n",
       "\n",
       "    .dataframe tbody tr th {\n",
       "        vertical-align: top;\n",
       "    }\n",
       "\n",
       "    .dataframe thead th {\n",
       "        text-align: right;\n",
       "    }\n",
       "</style>\n",
       "<table border=\"1\" class=\"dataframe\">\n",
       "  <thead>\n",
       "    <tr style=\"text-align: right;\">\n",
       "      <th></th>\n",
       "      <th>emp_no</th>\n",
       "    </tr>\n",
       "  </thead>\n",
       "  <tbody>\n",
       "  </tbody>\n",
       "</table>\n",
       "</div>"
      ],
      "text/plain": [
       "Empty DataFrame\n",
       "Columns: [emp_no]\n",
       "Index: []"
      ]
     },
     "metadata": {},
     "output_type": "display_data"
    },
    {
     "name": "stdout",
     "output_type": "stream",
     "text": [
      "--------------------------------------------------\n",
      "\n",
      "        SELECT title_id \n",
      "        FROM titles \n",
      "        WHERE title_id is null;\n",
      "    \n"
     ]
    },
    {
     "data": {
      "text/html": [
       "<div>\n",
       "<style scoped>\n",
       "    .dataframe tbody tr th:only-of-type {\n",
       "        vertical-align: middle;\n",
       "    }\n",
       "\n",
       "    .dataframe tbody tr th {\n",
       "        vertical-align: top;\n",
       "    }\n",
       "\n",
       "    .dataframe thead th {\n",
       "        text-align: right;\n",
       "    }\n",
       "</style>\n",
       "<table border=\"1\" class=\"dataframe\">\n",
       "  <thead>\n",
       "    <tr style=\"text-align: right;\">\n",
       "      <th></th>\n",
       "      <th>title_id</th>\n",
       "    </tr>\n",
       "  </thead>\n",
       "  <tbody>\n",
       "  </tbody>\n",
       "</table>\n",
       "</div>"
      ],
      "text/plain": [
       "Empty DataFrame\n",
       "Columns: [title_id]\n",
       "Index: []"
      ]
     },
     "metadata": {},
     "output_type": "display_data"
    },
    {
     "name": "stdout",
     "output_type": "stream",
     "text": [
      "--------------------------------------------------\n"
     ]
    }
   ],
   "source": [
    "for name, pk in dfsPK.items():\n",
    "    pk_split = [f'{p.strip()} is null' for p in pk.split(',')]\n",
    "    query = f\"\"\"\n",
    "        SELECT {pk} \n",
    "        FROM {name} \n",
    "        WHERE {' AND '.join(pk_split)};\n",
    "    \"\"\"\n",
    "    print(query)\n",
    "    df = spark.sql(query).toPandas()\n",
    "    display(df)\n",
    "    print('-' * 50)"
   ]
  },
  {
   "cell_type": "markdown",
   "id": "2d74df1f",
   "metadata": {},
   "source": [
    "### 4.3. is sex only M and F?"
   ]
  },
  {
   "cell_type": "code",
   "execution_count": 10,
   "id": "3e09b6c3",
   "metadata": {},
   "outputs": [
    {
     "data": {
      "text/html": [
       "<div>\n",
       "<style scoped>\n",
       "    .dataframe tbody tr th:only-of-type {\n",
       "        vertical-align: middle;\n",
       "    }\n",
       "\n",
       "    .dataframe tbody tr th {\n",
       "        vertical-align: top;\n",
       "    }\n",
       "\n",
       "    .dataframe thead th {\n",
       "        text-align: right;\n",
       "    }\n",
       "</style>\n",
       "<table border=\"1\" class=\"dataframe\">\n",
       "  <thead>\n",
       "    <tr style=\"text-align: right;\">\n",
       "      <th></th>\n",
       "      <th>sex</th>\n",
       "    </tr>\n",
       "  </thead>\n",
       "  <tbody>\n",
       "    <tr>\n",
       "      <th>0</th>\n",
       "      <td>F</td>\n",
       "    </tr>\n",
       "    <tr>\n",
       "      <th>1</th>\n",
       "      <td>M</td>\n",
       "    </tr>\n",
       "  </tbody>\n",
       "</table>\n",
       "</div>"
      ],
      "text/plain": [
       "  sex\n",
       "0   F\n",
       "1   M"
      ]
     },
     "execution_count": 10,
     "metadata": {},
     "output_type": "execute_result"
    }
   ],
   "source": [
    "spark.sql(\"\"\"\n",
    "    SELECT DISTINCT sex \n",
    "    FROM employees\n",
    "\"\"\").toPandas()"
   ]
  },
  {
   "cell_type": "markdown",
   "id": "df595962",
   "metadata": {},
   "source": [
    "## 5. Determine Cardinality"
   ]
  },
  {
   "cell_type": "markdown",
   "id": "7f88635d",
   "metadata": {},
   "source": [
    "### 5.1. employees and salaries\n",
    "looks like it's one-to-one relationship, since salary_count is all 1 and they both have same number of rows.  \n",
    "if there is a 0 in salary_count, that means some employees don't have salary record;  \n",
    "if there is a value higher than 1, that means an employee can have multiple records in salaries table."
   ]
  },
  {
   "cell_type": "code",
   "execution_count": 11,
   "id": "cec2490d",
   "metadata": {},
   "outputs": [
    {
     "data": {
      "text/html": [
       "<div>\n",
       "<style scoped>\n",
       "    .dataframe tbody tr th:only-of-type {\n",
       "        vertical-align: middle;\n",
       "    }\n",
       "\n",
       "    .dataframe tbody tr th {\n",
       "        vertical-align: top;\n",
       "    }\n",
       "\n",
       "    .dataframe thead th {\n",
       "        text-align: right;\n",
       "    }\n",
       "</style>\n",
       "<table border=\"1\" class=\"dataframe\">\n",
       "  <thead>\n",
       "    <tr style=\"text-align: right;\">\n",
       "      <th></th>\n",
       "      <th>employees_count</th>\n",
       "      <th>salaries_count</th>\n",
       "    </tr>\n",
       "  </thead>\n",
       "  <tbody>\n",
       "    <tr>\n",
       "      <th>0</th>\n",
       "      <td>300024</td>\n",
       "      <td>300024</td>\n",
       "    </tr>\n",
       "  </tbody>\n",
       "</table>\n",
       "</div>"
      ],
      "text/plain": [
       "   employees_count  salaries_count\n",
       "0           300024          300024"
      ]
     },
     "execution_count": 11,
     "metadata": {},
     "output_type": "execute_result"
    }
   ],
   "source": [
    "spark.sql(\"\"\"\n",
    "    SELECT \n",
    "        (SELECT COUNT(*) FROM employees) AS employees_count,\n",
    "        (SELECT COUNT(*) FROM salaries) AS salaries_count;\n",
    "\"\"\").toPandas()"
   ]
  },
  {
   "cell_type": "code",
   "execution_count": 12,
   "id": "516cf62a",
   "metadata": {},
   "outputs": [
    {
     "data": {
      "text/html": [
       "<div>\n",
       "<style scoped>\n",
       "    .dataframe tbody tr th:only-of-type {\n",
       "        vertical-align: middle;\n",
       "    }\n",
       "\n",
       "    .dataframe tbody tr th {\n",
       "        vertical-align: top;\n",
       "    }\n",
       "\n",
       "    .dataframe thead th {\n",
       "        text-align: right;\n",
       "    }\n",
       "</style>\n",
       "<table border=\"1\" class=\"dataframe\">\n",
       "  <thead>\n",
       "    <tr style=\"text-align: right;\">\n",
       "      <th></th>\n",
       "      <th>emp_no</th>\n",
       "      <th>salary_count</th>\n",
       "    </tr>\n",
       "  </thead>\n",
       "  <tbody>\n",
       "  </tbody>\n",
       "</table>\n",
       "</div>"
      ],
      "text/plain": [
       "Empty DataFrame\n",
       "Columns: [emp_no, salary_count]\n",
       "Index: []"
      ]
     },
     "execution_count": 12,
     "metadata": {},
     "output_type": "execute_result"
    }
   ],
   "source": [
    "spark.sql(\"\"\"\n",
    "    SELECT emp_no, \n",
    "           COUNT(salary) AS salary_count\n",
    "    FROM employees\n",
    "    LEFT JOIN salaries USING (emp_no)\n",
    "    GROUP BY emp_no\n",
    "    HAVING salary_count != 1\n",
    "    ORDER BY salary_count ASC;\n",
    "\"\"\").toPandas()"
   ]
  },
  {
   "cell_type": "markdown",
   "id": "adfc8507",
   "metadata": {},
   "source": [
    "### 5.2. employees and titles\n",
    "one-to-many relationship: one employee has one and only one title, each title can be held by multiple employees"
   ]
  },
  {
   "cell_type": "code",
   "execution_count": 13,
   "id": "a25814b1",
   "metadata": {},
   "outputs": [
    {
     "data": {
      "text/html": [
       "<div>\n",
       "<style scoped>\n",
       "    .dataframe tbody tr th:only-of-type {\n",
       "        vertical-align: middle;\n",
       "    }\n",
       "\n",
       "    .dataframe tbody tr th {\n",
       "        vertical-align: top;\n",
       "    }\n",
       "\n",
       "    .dataframe thead th {\n",
       "        text-align: right;\n",
       "    }\n",
       "</style>\n",
       "<table border=\"1\" class=\"dataframe\">\n",
       "  <thead>\n",
       "    <tr style=\"text-align: right;\">\n",
       "      <th></th>\n",
       "      <th>employees_count</th>\n",
       "      <th>titles_count</th>\n",
       "    </tr>\n",
       "  </thead>\n",
       "  <tbody>\n",
       "    <tr>\n",
       "      <th>0</th>\n",
       "      <td>300024</td>\n",
       "      <td>7</td>\n",
       "    </tr>\n",
       "  </tbody>\n",
       "</table>\n",
       "</div>"
      ],
      "text/plain": [
       "   employees_count  titles_count\n",
       "0           300024             7"
      ]
     },
     "execution_count": 13,
     "metadata": {},
     "output_type": "execute_result"
    }
   ],
   "source": [
    "spark.sql(\"\"\"\n",
    "    SELECT \n",
    "        (SELECT COUNT(*) FROM employees) AS employees_count,\n",
    "        (SELECT COUNT(*) FROM titles) AS titles_count;\n",
    "\"\"\").toPandas()"
   ]
  },
  {
   "cell_type": "code",
   "execution_count": 14,
   "id": "1d7d78c2",
   "metadata": {},
   "outputs": [
    {
     "data": {
      "text/html": [
       "<div>\n",
       "<style scoped>\n",
       "    .dataframe tbody tr th:only-of-type {\n",
       "        vertical-align: middle;\n",
       "    }\n",
       "\n",
       "    .dataframe tbody tr th {\n",
       "        vertical-align: top;\n",
       "    }\n",
       "\n",
       "    .dataframe thead th {\n",
       "        text-align: right;\n",
       "    }\n",
       "</style>\n",
       "<table border=\"1\" class=\"dataframe\">\n",
       "  <thead>\n",
       "    <tr style=\"text-align: right;\">\n",
       "      <th></th>\n",
       "      <th>emp_no</th>\n",
       "      <th>title_count</th>\n",
       "    </tr>\n",
       "  </thead>\n",
       "  <tbody>\n",
       "  </tbody>\n",
       "</table>\n",
       "</div>"
      ],
      "text/plain": [
       "Empty DataFrame\n",
       "Columns: [emp_no, title_count]\n",
       "Index: []"
      ]
     },
     "execution_count": 14,
     "metadata": {},
     "output_type": "execute_result"
    }
   ],
   "source": [
    "spark.sql(\"\"\"\n",
    "    SELECT emp_no, \n",
    "           COUNT(e.emp_title_id) AS title_count\n",
    "    FROM employees e\n",
    "    LEFT JOIN titles t ON e.emp_title_id = t.title_id\n",
    "    GROUP BY emp_no\n",
    "    HAVING title_count != 1\n",
    "    ORDER BY title_count ASC;\n",
    "\"\"\").toPandas()"
   ]
  },
  {
   "cell_type": "code",
   "execution_count": 15,
   "id": "2f71a335",
   "metadata": {},
   "outputs": [
    {
     "data": {
      "text/html": [
       "<div>\n",
       "<style scoped>\n",
       "    .dataframe tbody tr th:only-of-type {\n",
       "        vertical-align: middle;\n",
       "    }\n",
       "\n",
       "    .dataframe tbody tr th {\n",
       "        vertical-align: top;\n",
       "    }\n",
       "\n",
       "    .dataframe thead th {\n",
       "        text-align: right;\n",
       "    }\n",
       "</style>\n",
       "<table border=\"1\" class=\"dataframe\">\n",
       "  <thead>\n",
       "    <tr style=\"text-align: right;\">\n",
       "      <th></th>\n",
       "      <th>title_id</th>\n",
       "      <th>emp_count</th>\n",
       "    </tr>\n",
       "  </thead>\n",
       "  <tbody>\n",
       "    <tr>\n",
       "      <th>0</th>\n",
       "      <td>m0001</td>\n",
       "      <td>24</td>\n",
       "    </tr>\n",
       "    <tr>\n",
       "      <th>1</th>\n",
       "      <td>e0001</td>\n",
       "      <td>5835</td>\n",
       "    </tr>\n",
       "    <tr>\n",
       "      <th>2</th>\n",
       "      <td>e0004</td>\n",
       "      <td>15148</td>\n",
       "    </tr>\n",
       "    <tr>\n",
       "      <th>3</th>\n",
       "      <td>s0002</td>\n",
       "      <td>26583</td>\n",
       "    </tr>\n",
       "    <tr>\n",
       "      <th>4</th>\n",
       "      <td>e0002</td>\n",
       "      <td>47303</td>\n",
       "    </tr>\n",
       "    <tr>\n",
       "      <th>5</th>\n",
       "      <td>e0003</td>\n",
       "      <td>97747</td>\n",
       "    </tr>\n",
       "    <tr>\n",
       "      <th>6</th>\n",
       "      <td>s0001</td>\n",
       "      <td>107384</td>\n",
       "    </tr>\n",
       "  </tbody>\n",
       "</table>\n",
       "</div>"
      ],
      "text/plain": [
       "  title_id  emp_count\n",
       "0    m0001         24\n",
       "1    e0001       5835\n",
       "2    e0004      15148\n",
       "3    s0002      26583\n",
       "4    e0002      47303\n",
       "5    e0003      97747\n",
       "6    s0001     107384"
      ]
     },
     "execution_count": 15,
     "metadata": {},
     "output_type": "execute_result"
    }
   ],
   "source": [
    "spark.sql(\"\"\"\n",
    "    SELECT t.title_id, \n",
    "           COUNT(emp_no) AS emp_count\n",
    "    FROM titles t\n",
    "    LEFT JOIN employees e ON t.title_id = e.emp_title_id\n",
    "    GROUP BY t.title_id\n",
    "    ORDER BY emp_count ASC;\n",
    "\"\"\").toPandas()"
   ]
  },
  {
   "cell_type": "markdown",
   "id": "2bb8f7b4",
   "metadata": {},
   "source": [
    "### 5.3. employees and dept_manager\n",
    "an employee can appear 0 or 1 times in dept_manager, i.e. manage 0 or 1 departments"
   ]
  },
  {
   "cell_type": "code",
   "execution_count": 16,
   "id": "6077de67",
   "metadata": {},
   "outputs": [
    {
     "data": {
      "text/html": [
       "<div>\n",
       "<style scoped>\n",
       "    .dataframe tbody tr th:only-of-type {\n",
       "        vertical-align: middle;\n",
       "    }\n",
       "\n",
       "    .dataframe tbody tr th {\n",
       "        vertical-align: top;\n",
       "    }\n",
       "\n",
       "    .dataframe thead th {\n",
       "        text-align: right;\n",
       "    }\n",
       "</style>\n",
       "<table border=\"1\" class=\"dataframe\">\n",
       "  <thead>\n",
       "    <tr style=\"text-align: right;\">\n",
       "      <th></th>\n",
       "      <th>emp_no</th>\n",
       "      <th>dept_count</th>\n",
       "    </tr>\n",
       "  </thead>\n",
       "  <tbody>\n",
       "    <tr>\n",
       "      <th>0</th>\n",
       "      <td>111035</td>\n",
       "      <td>1</td>\n",
       "    </tr>\n",
       "    <tr>\n",
       "      <th>1</th>\n",
       "      <td>110420</td>\n",
       "      <td>1</td>\n",
       "    </tr>\n",
       "    <tr>\n",
       "      <th>2</th>\n",
       "      <td>110765</td>\n",
       "      <td>1</td>\n",
       "    </tr>\n",
       "    <tr>\n",
       "      <th>3</th>\n",
       "      <td>110854</td>\n",
       "      <td>1</td>\n",
       "    </tr>\n",
       "    <tr>\n",
       "      <th>4</th>\n",
       "      <td>110039</td>\n",
       "      <td>1</td>\n",
       "    </tr>\n",
       "    <tr>\n",
       "      <th>...</th>\n",
       "      <td>...</td>\n",
       "      <td>...</td>\n",
       "    </tr>\n",
       "    <tr>\n",
       "      <th>300019</th>\n",
       "      <td>235030</td>\n",
       "      <td>0</td>\n",
       "    </tr>\n",
       "    <tr>\n",
       "      <th>300020</th>\n",
       "      <td>70335</td>\n",
       "      <td>0</td>\n",
       "    </tr>\n",
       "    <tr>\n",
       "      <th>300021</th>\n",
       "      <td>96067</td>\n",
       "      <td>0</td>\n",
       "    </tr>\n",
       "    <tr>\n",
       "      <th>300022</th>\n",
       "      <td>296491</td>\n",
       "      <td>0</td>\n",
       "    </tr>\n",
       "    <tr>\n",
       "      <th>300023</th>\n",
       "      <td>215617</td>\n",
       "      <td>0</td>\n",
       "    </tr>\n",
       "  </tbody>\n",
       "</table>\n",
       "<p>300024 rows × 2 columns</p>\n",
       "</div>"
      ],
      "text/plain": [
       "        emp_no  dept_count\n",
       "0       111035           1\n",
       "1       110420           1\n",
       "2       110765           1\n",
       "3       110854           1\n",
       "4       110039           1\n",
       "...        ...         ...\n",
       "300019  235030           0\n",
       "300020   70335           0\n",
       "300021   96067           0\n",
       "300022  296491           0\n",
       "300023  215617           0\n",
       "\n",
       "[300024 rows x 2 columns]"
      ]
     },
     "execution_count": 16,
     "metadata": {},
     "output_type": "execute_result"
    }
   ],
   "source": [
    "spark.sql(\"\"\"\n",
    "    SELECT emp_no, \n",
    "           COUNT(dept_no) AS dept_count\n",
    "    FROM employees\n",
    "    LEFT JOIN dept_manager USING (emp_no)\n",
    "    GROUP BY emp_no\n",
    "    ORDER BY dept_count DESC;\n",
    "\"\"\").toPandas()"
   ]
  },
  {
   "cell_type": "markdown",
   "id": "9b2c9013",
   "metadata": {},
   "source": [
    "### 5.4. departments and dept_manager\n",
    "similary, a department can appear in multiple rows in dept_manager, i.e. a department is managed by multiple managers. Thus one-to-many\n",
    "\n",
    "### 5.5. employees and dept_emp\n",
    "an employee can belong to 1 or 2 departments. Thus one-to-many"
   ]
  },
  {
   "cell_type": "code",
   "execution_count": 17,
   "id": "730e283e",
   "metadata": {},
   "outputs": [
    {
     "data": {
      "text/html": [
       "<div>\n",
       "<style scoped>\n",
       "    .dataframe tbody tr th:only-of-type {\n",
       "        vertical-align: middle;\n",
       "    }\n",
       "\n",
       "    .dataframe tbody tr th {\n",
       "        vertical-align: top;\n",
       "    }\n",
       "\n",
       "    .dataframe thead th {\n",
       "        text-align: right;\n",
       "    }\n",
       "</style>\n",
       "<table border=\"1\" class=\"dataframe\">\n",
       "  <thead>\n",
       "    <tr style=\"text-align: right;\">\n",
       "      <th></th>\n",
       "      <th>emp_no</th>\n",
       "      <th>dept_count</th>\n",
       "    </tr>\n",
       "  </thead>\n",
       "  <tbody>\n",
       "    <tr>\n",
       "      <th>0</th>\n",
       "      <td>30361</td>\n",
       "      <td>2</td>\n",
       "    </tr>\n",
       "    <tr>\n",
       "      <th>1</th>\n",
       "      <td>41946</td>\n",
       "      <td>2</td>\n",
       "    </tr>\n",
       "    <tr>\n",
       "      <th>2</th>\n",
       "      <td>249022</td>\n",
       "      <td>2</td>\n",
       "    </tr>\n",
       "    <tr>\n",
       "      <th>3</th>\n",
       "      <td>50223</td>\n",
       "      <td>2</td>\n",
       "    </tr>\n",
       "    <tr>\n",
       "      <th>4</th>\n",
       "      <td>299003</td>\n",
       "      <td>2</td>\n",
       "    </tr>\n",
       "    <tr>\n",
       "      <th>...</th>\n",
       "      <td>...</td>\n",
       "      <td>...</td>\n",
       "    </tr>\n",
       "    <tr>\n",
       "      <th>300019</th>\n",
       "      <td>235030</td>\n",
       "      <td>1</td>\n",
       "    </tr>\n",
       "    <tr>\n",
       "      <th>300020</th>\n",
       "      <td>70335</td>\n",
       "      <td>1</td>\n",
       "    </tr>\n",
       "    <tr>\n",
       "      <th>300021</th>\n",
       "      <td>96067</td>\n",
       "      <td>1</td>\n",
       "    </tr>\n",
       "    <tr>\n",
       "      <th>300022</th>\n",
       "      <td>296491</td>\n",
       "      <td>1</td>\n",
       "    </tr>\n",
       "    <tr>\n",
       "      <th>300023</th>\n",
       "      <td>215617</td>\n",
       "      <td>1</td>\n",
       "    </tr>\n",
       "  </tbody>\n",
       "</table>\n",
       "<p>300024 rows × 2 columns</p>\n",
       "</div>"
      ],
      "text/plain": [
       "        emp_no  dept_count\n",
       "0        30361           2\n",
       "1        41946           2\n",
       "2       249022           2\n",
       "3        50223           2\n",
       "4       299003           2\n",
       "...        ...         ...\n",
       "300019  235030           1\n",
       "300020   70335           1\n",
       "300021   96067           1\n",
       "300022  296491           1\n",
       "300023  215617           1\n",
       "\n",
       "[300024 rows x 2 columns]"
      ]
     },
     "execution_count": 17,
     "metadata": {},
     "output_type": "execute_result"
    }
   ],
   "source": [
    "spark.sql(\"\"\"\n",
    "    SELECT emp_no, \n",
    "           COUNT(dept_no) AS dept_count\n",
    "    FROM employees\n",
    "    LEFT JOIN dept_emp USING (emp_no)\n",
    "    GROUP BY emp_no\n",
    "    ORDER BY dept_count DESC;\n",
    "\"\"\").toPandas()"
   ]
  },
  {
   "cell_type": "code",
   "execution_count": 18,
   "id": "98ca17ff",
   "metadata": {},
   "outputs": [
    {
     "data": {
      "text/html": [
       "<div>\n",
       "<style scoped>\n",
       "    .dataframe tbody tr th:only-of-type {\n",
       "        vertical-align: middle;\n",
       "    }\n",
       "\n",
       "    .dataframe tbody tr th {\n",
       "        vertical-align: top;\n",
       "    }\n",
       "\n",
       "    .dataframe thead th {\n",
       "        text-align: right;\n",
       "    }\n",
       "</style>\n",
       "<table border=\"1\" class=\"dataframe\">\n",
       "  <thead>\n",
       "    <tr style=\"text-align: right;\">\n",
       "      <th></th>\n",
       "      <th>dept_no</th>\n",
       "      <th>emp_no</th>\n",
       "      <th>dept_name</th>\n",
       "    </tr>\n",
       "  </thead>\n",
       "  <tbody>\n",
       "    <tr>\n",
       "      <th>0</th>\n",
       "      <td>d005</td>\n",
       "      <td>30361</td>\n",
       "      <td>Development</td>\n",
       "    </tr>\n",
       "    <tr>\n",
       "      <th>1</th>\n",
       "      <td>d008</td>\n",
       "      <td>30361</td>\n",
       "      <td>Research</td>\n",
       "    </tr>\n",
       "    <tr>\n",
       "      <th>2</th>\n",
       "      <td>d004</td>\n",
       "      <td>41946</td>\n",
       "      <td>Production</td>\n",
       "    </tr>\n",
       "    <tr>\n",
       "      <th>3</th>\n",
       "      <td>d009</td>\n",
       "      <td>41946</td>\n",
       "      <td>Customer Service</td>\n",
       "    </tr>\n",
       "  </tbody>\n",
       "</table>\n",
       "</div>"
      ],
      "text/plain": [
       "  dept_no  emp_no         dept_name\n",
       "0    d005   30361       Development\n",
       "1    d008   30361          Research\n",
       "2    d004   41946        Production\n",
       "3    d009   41946  Customer Service"
      ]
     },
     "execution_count": 18,
     "metadata": {},
     "output_type": "execute_result"
    }
   ],
   "source": [
    "# for instance, an employee can belong to both production and customer service departments\n",
    "spark.sql(\"\"\"\n",
    "    SELECT * \n",
    "    FROM dept_emp \n",
    "    JOIN departments USING (dept_no) \n",
    "    WHERE emp_no IN (30361, 41946);\n",
    "\"\"\").toPandas()"
   ]
  },
  {
   "cell_type": "markdown",
   "id": "0a0933e1",
   "metadata": {},
   "source": [
    "### 5.6. departments and dept_emp\n",
    "similary, a department can appear in multiple rows in dept_emp, i.e. a department has multiple employees. Thus one-to-many.\n",
    "\n",
    "## 6. Final ERD\n",
    "![](static/ERD.svg)"
   ]
  },
  {
   "cell_type": "code",
   "execution_count": null,
   "id": "d7bea4ca",
   "metadata": {},
   "outputs": [],
   "source": []
  }
 ],
 "metadata": {
  "kernelspec": {
   "display_name": "Python 3 (ipykernel)",
   "language": "python",
   "name": "python3"
  },
  "language_info": {
   "codemirror_mode": {
    "name": "ipython",
    "version": 3
   },
   "file_extension": ".py",
   "mimetype": "text/x-python",
   "name": "python",
   "nbconvert_exporter": "python",
   "pygments_lexer": "ipython3",
   "version": "3.9.18"
  },
  "toc": {
   "base_numbering": 1,
   "nav_menu": {},
   "number_sections": true,
   "sideBar": true,
   "skip_h1_title": false,
   "title_cell": "Table of Contents",
   "title_sidebar": "Contents",
   "toc_cell": true,
   "toc_position": {
    "height": "calc(100% - 180px)",
    "left": "10px",
    "top": "150px",
    "width": "384px"
   },
   "toc_section_display": true,
   "toc_window_display": false
  }
 },
 "nbformat": 4,
 "nbformat_minor": 5
}
